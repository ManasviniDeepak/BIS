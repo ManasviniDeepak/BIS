{
  "nbformat": 4,
  "nbformat_minor": 0,
  "metadata": {
    "colab": {
      "provenance": [],
      "authorship_tag": "ABX9TyOlzQSIqKiYlQ4vFczMvp5Q",
      "include_colab_link": true
    },
    "kernelspec": {
      "name": "python3",
      "display_name": "Python 3"
    },
    "language_info": {
      "name": "python"
    }
  },
  "cells": [
    {
      "cell_type": "markdown",
      "metadata": {
        "id": "view-in-github",
        "colab_type": "text"
      },
      "source": [
        "<a href=\"https://colab.research.google.com/github/ManasviniDeepak/BIS/blob/main/Gene_Expression.ipynb\" target=\"_parent\"><img src=\"https://colab.research.google.com/assets/colab-badge.svg\" alt=\"Open In Colab\"/></a>"
      ]
    },
    {
      "cell_type": "code",
      "execution_count": 1,
      "metadata": {
        "colab": {
          "base_uri": "https://localhost:8080/"
        },
        "id": "Q7JJuG1S21GR",
        "outputId": "6ea5b42b-39b5-4d1b-e3dc-1301cd5d882b"
      },
      "outputs": [
        {
          "output_type": "stream",
          "name": "stdout",
          "text": [
            "Best Solution: (((x + 2) - (2 - 2)) * x)\n"
          ]
        }
      ],
      "source": [
        "import random\n",
        "import numpy as np\n",
        "\n",
        "# Define constants\n",
        "POP_SIZE = 20\n",
        "GENERATIONS = 50\n",
        "GENE_LENGTH = 10  # Length of a chromosome\n",
        "TERMINALS = ['x', '1', '2']  # Terminal symbols\n",
        "FUNCTIONS = ['+', '-', '*']  # Function symbols\n",
        "\n",
        "# Generate random chromosome\n",
        "def generate_chromosome():\n",
        "    return [random.choice(FUNCTIONS + TERMINALS) for _ in range(GENE_LENGTH)]\n",
        "\n",
        "# Decode chromosome into an expression\n",
        "def decode_chromosome(chromosome):\n",
        "    stack = []\n",
        "    for gene in chromosome:\n",
        "        if gene in FUNCTIONS and len(stack) >= 2:\n",
        "            b = stack.pop()\n",
        "            a = stack.pop()\n",
        "            stack.append(f\"({a} {gene} {b})\")\n",
        "        else:\n",
        "            stack.append(gene)\n",
        "    return stack[0] if stack else \"\"\n",
        "\n",
        "# Evaluate fitness\n",
        "def evaluate_fitness(expression, x_values, y_target):\n",
        "    try:\n",
        "        y_pred = [eval(expression.replace('x', str(x))) for x in x_values]\n",
        "        return -np.sum((np.array(y_pred) - np.array(y_target))**2)  # Negative error\n",
        "    except:\n",
        "        return float('-inf')\n",
        "\n",
        "# Genetic operators\n",
        "def mutate(chromosome):\n",
        "    idx = random.randint(0, GENE_LENGTH-1)\n",
        "    chromosome[idx] = random.choice(FUNCTIONS + TERMINALS)\n",
        "    return chromosome\n",
        "\n",
        "def crossover(parent1, parent2):\n",
        "    idx = random.randint(1, GENE_LENGTH-1)\n",
        "    return parent1[:idx] + parent2[idx:], parent2[:idx] + parent1[idx:]\n",
        "\n",
        "# Main GEP algorithm\n",
        "x_values = np.linspace(-10, 10, 20)\n",
        "y_target = x_values**2 + 2*x_values + 1\n",
        "\n",
        "population = [generate_chromosome() for _ in range(POP_SIZE)]\n",
        "\n",
        "for gen in range(GENERATIONS):\n",
        "    fitness = [evaluate_fitness(decode_chromosome(chrom), x_values, y_target) for chrom in population]\n",
        "    sorted_population = [x for _, x in sorted(zip(fitness, population), reverse=True)]\n",
        "    population = sorted_population[:POP_SIZE//2]  # Selection\n",
        "\n",
        "    # Crossover and mutation\n",
        "    offspring = []\n",
        "    while len(offspring) < POP_SIZE//2:\n",
        "        p1, p2 = random.sample(population, 2)\n",
        "        c1, c2 = crossover(p1, p2)\n",
        "        offspring.append(mutate(c1))\n",
        "        offspring.append(mutate(c2))\n",
        "    population = population + offspring\n",
        "\n",
        "# Print the best solution\n",
        "best_chromosome = sorted(population, key=lambda c: evaluate_fitness(decode_chromosome(c), x_values, y_target))[-1]\n",
        "print(\"Best Solution:\", decode_chromosome(best_chromosome))\n"
      ]
    }
  ]
}